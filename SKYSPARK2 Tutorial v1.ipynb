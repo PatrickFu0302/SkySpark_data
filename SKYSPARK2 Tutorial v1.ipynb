{
 "cells": [
  {
   "cell_type": "markdown",
   "metadata": {},
   "source": [
    "## About the project\n",
    "[UBC's SkySpark IoT platform](https://skyspark.energy.ubc.ca), managed by UBC Energy and Water Services (EWS), collects data on weather and UBC buildings every 15 minutes. The Urban Data Lab (UDL) is streaming the SkySpark data into an InfluxDB instance to increase its accessibility and usability.\n",
    "\n",
    "Public users (read permissions only) can log in to our **InfluxDB 2.0 User Interface** http://206.12.92.81:8086/ with the following credentials\n",
    "- Username:`public02`\n",
    "- Password:`public02`\n",
    "\n",
    "Public users can also use this authorization token `omUybYZ3QkGvuXXy0VwT-7hoO2SEFzhckXJ5k32K_GvG47yHQAi9JzZ1bii6r1HD5NKux3ZhHlKAyUfj6i61bA==`\n",
    "\n",
    "to access this InfluxDB database from [InfluxDB command line interface](https://docs.influxdata.com/influxdb/v2.0/) or [InfluxDB API client libraries](https://docs.influxdata.com/influxdb/v2.0/tools/client-libraries/). \n",
    "\n",
    "This tutorial demonstrates querying the InfluxDB database using the `influxdb-client` Python module. Please [contact UDL](https://urbandatalab.io/) if you have any questions."
   ]
  },
  {
   "cell_type": "markdown",
   "metadata": {},
   "source": [
    "## Dependecies"
   ]
  },
  {
   "cell_type": "markdown",
   "metadata": {},
   "source": [
    "```python\n",
    "# -----------------------------------------------\n",
    "# SKYSPARK 2.0 Tutorial v1\n",
    "# Author: Jiachen Wei, UBC Urban Data Lab\n",
    "# Date: Mar 2021\n",
    "# Python version: 3.8.5\n",
    "# -----------------------------------------------\n",
    "\n",
    "#influxdb-client for InfluxDB 2.x and InfluxDB 1.8+\n",
    "# More information https://pypi.org/project/influxdb-client/\n",
    "! pip install influxdb-client\n",
    "```"
   ]
  },
  {
   "cell_type": "code",
   "execution_count": 1,
   "metadata": {},
   "outputs": [],
   "source": [
    "import pandas as pd\n",
    "import influxdb_client\n",
    "from datetime import timezone, datetime\n",
    "import pytz\n",
    "import matplotlib.pyplot as plt\n",
    "%matplotlib inline"
   ]
  },
  {
   "cell_type": "markdown",
   "metadata": {},
   "source": [
    "## Connecting and Querying UDL's InfluxDB"
   ]
  },
  {
   "cell_type": "code",
   "execution_count": 2,
   "metadata": {},
   "outputs": [],
   "source": [
    "#Define a few variables with the name of your bucket, organization, and token.\n",
    "bucket = \"SKYSPARK\"\n",
    "org = \"UBC\"\n",
    "#UDL provides public users READ access to the InfluxDB 2.0 instance via this token\n",
    "token = \"omUybYZ3QkGvuXXy0VwT-7hoO2SEFzhckXJ5k32K_GvG47yHQAi9JzZ1bii6r1HD5NKux3ZhHlKAyUfj6i61bA==\"\n",
    "url=\"http://206.12.92.81:8086/\""
   ]
  },
  {
   "cell_type": "code",
   "execution_count": 3,
   "metadata": {},
   "outputs": [],
   "source": [
    "#Instantiate the client.\n",
    "client = influxdb_client.InfluxDBClient(url=url, token=token, org=org)\n",
    "\n",
    "#Create a Flux query.\n",
    "    #Flux documentation https://docs.influxdata.com/influxdb/v2.0/reference/flux/\n",
    "    #You can generate Flux query using the Query Builder on http://206.12.92.81:8086/\n",
    "#Let's query the data on chillers in the Pharmacy building for July 2020\n",
    "query = '''from(bucket: \"SKYSPARK\")\n",
    "  |> range(start: 2020-07-01T00:00:00Z, stop: 2020-07-31T23:59:59Z)\n",
    "  |> filter(fn: (r) => r[\"_measurement\"] == \"READINGS\")\n",
    "  |> filter(fn: (r) => r[\"siteRef\"] == \"Pharmacy\")\n",
    "  |> filter(fn: (r) => r[\"uniqueID\"] == \"r:p:ubcv:r:21432e1c-45d33081 Pharmacy Cooling Plant CH-1 CHLR1_COP\" or r[\"uniqueID\"] == \"r:p:ubcv:r:21433651-788ebe09 Pharmacy Cooling Plant CH-2 CHLR2_COP\" or r[\"uniqueID\"] == \"r:p:ubcv:r:21433667-2be787b5 Pharmacy Cooling Plant CH-3 CHLR3_COP\" or r[\"uniqueID\"] == \"r:p:ubcv:r:21433683-704eac70 Pharmacy Cooling Plant CH-4 CHLR4_COP\")\n",
    "  |> filter(fn: (r) => r[\"_field\"] == \"val_num\")'''\n",
    "\n",
    "##Instantiate the query client. Specify org and query.\n",
    "result = client.query_api().query_data_frame(org=org, query=query)"
   ]
  },
  {
   "cell_type": "code",
   "execution_count": 4,
   "metadata": {},
   "outputs": [
    {
     "data": {
      "text/html": [
       "<div>\n",
       "<style scoped>\n",
       "    .dataframe tbody tr th:only-of-type {\n",
       "        vertical-align: middle;\n",
       "    }\n",
       "\n",
       "    .dataframe tbody tr th {\n",
       "        vertical-align: top;\n",
       "    }\n",
       "\n",
       "    .dataframe thead th {\n",
       "        text-align: right;\n",
       "    }\n",
       "</style>\n",
       "<table border=\"1\" class=\"dataframe\">\n",
       "  <thead>\n",
       "    <tr style=\"text-align: right;\">\n",
       "      <th></th>\n",
       "      <th>result</th>\n",
       "      <th>table</th>\n",
       "      <th>_start</th>\n",
       "      <th>_stop</th>\n",
       "      <th>_time</th>\n",
       "      <th>_value</th>\n",
       "      <th>_field</th>\n",
       "      <th>_measurement</th>\n",
       "      <th>equipRef</th>\n",
       "      <th>groupRef</th>\n",
       "      <th>navName</th>\n",
       "      <th>siteRef</th>\n",
       "      <th>typeRef</th>\n",
       "      <th>uniqueID</th>\n",
       "      <th>unit</th>\n",
       "    </tr>\n",
       "  </thead>\n",
       "  <tbody>\n",
       "    <tr>\n",
       "      <th>0</th>\n",
       "      <td>_result</td>\n",
       "      <td>0</td>\n",
       "      <td>2020-07-01 00:00:00+00:00</td>\n",
       "      <td>2020-07-31 23:59:59+00:00</td>\n",
       "      <td>2020-07-01 00:00:00+00:00</td>\n",
       "      <td>3.797291</td>\n",
       "      <td>val_num</td>\n",
       "      <td>READINGS</td>\n",
       "      <td>Cooling Plant CH-1</td>\n",
       "      <td>Pharmacy Hydronic Systems</td>\n",
       "      <td>cop</td>\n",
       "      <td>Pharmacy</td>\n",
       "      <td>CHLR1_COP</td>\n",
       "      <td>r:p:ubcv:r:21432e1c-45d33081 Pharmacy Cooling ...</td>\n",
       "      <td>_</td>\n",
       "    </tr>\n",
       "    <tr>\n",
       "      <th>1</th>\n",
       "      <td>_result</td>\n",
       "      <td>0</td>\n",
       "      <td>2020-07-01 00:00:00+00:00</td>\n",
       "      <td>2020-07-31 23:59:59+00:00</td>\n",
       "      <td>2020-07-01 00:10:00+00:00</td>\n",
       "      <td>4.521705</td>\n",
       "      <td>val_num</td>\n",
       "      <td>READINGS</td>\n",
       "      <td>Cooling Plant CH-1</td>\n",
       "      <td>Pharmacy Hydronic Systems</td>\n",
       "      <td>cop</td>\n",
       "      <td>Pharmacy</td>\n",
       "      <td>CHLR1_COP</td>\n",
       "      <td>r:p:ubcv:r:21432e1c-45d33081 Pharmacy Cooling ...</td>\n",
       "      <td>_</td>\n",
       "    </tr>\n",
       "    <tr>\n",
       "      <th>...</th>\n",
       "      <td>...</td>\n",
       "      <td>...</td>\n",
       "      <td>...</td>\n",
       "      <td>...</td>\n",
       "      <td>...</td>\n",
       "      <td>...</td>\n",
       "      <td>...</td>\n",
       "      <td>...</td>\n",
       "      <td>...</td>\n",
       "      <td>...</td>\n",
       "      <td>...</td>\n",
       "      <td>...</td>\n",
       "      <td>...</td>\n",
       "      <td>...</td>\n",
       "      <td>...</td>\n",
       "    </tr>\n",
       "    <tr>\n",
       "      <th>17826</th>\n",
       "      <td>_result</td>\n",
       "      <td>3</td>\n",
       "      <td>2020-07-01 00:00:00+00:00</td>\n",
       "      <td>2020-07-31 23:59:59+00:00</td>\n",
       "      <td>2020-07-31 23:40:00+00:00</td>\n",
       "      <td>0.000000</td>\n",
       "      <td>val_num</td>\n",
       "      <td>READINGS</td>\n",
       "      <td>Cooling Plant CH-4</td>\n",
       "      <td>Pharmacy Hydronic Systems</td>\n",
       "      <td>cop</td>\n",
       "      <td>Pharmacy</td>\n",
       "      <td>CHLR4_COP</td>\n",
       "      <td>r:p:ubcv:r:21433683-704eac70 Pharmacy Cooling ...</td>\n",
       "      <td>_</td>\n",
       "    </tr>\n",
       "    <tr>\n",
       "      <th>17827</th>\n",
       "      <td>_result</td>\n",
       "      <td>3</td>\n",
       "      <td>2020-07-01 00:00:00+00:00</td>\n",
       "      <td>2020-07-31 23:59:59+00:00</td>\n",
       "      <td>2020-07-31 23:50:00+00:00</td>\n",
       "      <td>0.000000</td>\n",
       "      <td>val_num</td>\n",
       "      <td>READINGS</td>\n",
       "      <td>Cooling Plant CH-4</td>\n",
       "      <td>Pharmacy Hydronic Systems</td>\n",
       "      <td>cop</td>\n",
       "      <td>Pharmacy</td>\n",
       "      <td>CHLR4_COP</td>\n",
       "      <td>r:p:ubcv:r:21433683-704eac70 Pharmacy Cooling ...</td>\n",
       "      <td>_</td>\n",
       "    </tr>\n",
       "  </tbody>\n",
       "</table>\n",
       "<p>17828 rows × 15 columns</p>\n",
       "</div>"
      ],
      "text/plain": [
       "        result table                    _start                     _stop  \\\n",
       "0      _result     0 2020-07-01 00:00:00+00:00 2020-07-31 23:59:59+00:00   \n",
       "1      _result     0 2020-07-01 00:00:00+00:00 2020-07-31 23:59:59+00:00   \n",
       "...        ...   ...                       ...                       ...   \n",
       "17826  _result     3 2020-07-01 00:00:00+00:00 2020-07-31 23:59:59+00:00   \n",
       "17827  _result     3 2020-07-01 00:00:00+00:00 2020-07-31 23:59:59+00:00   \n",
       "\n",
       "                          _time    _value   _field _measurement  \\\n",
       "0     2020-07-01 00:00:00+00:00  3.797291  val_num     READINGS   \n",
       "1     2020-07-01 00:10:00+00:00  4.521705  val_num     READINGS   \n",
       "...                         ...       ...      ...          ...   \n",
       "17826 2020-07-31 23:40:00+00:00  0.000000  val_num     READINGS   \n",
       "17827 2020-07-31 23:50:00+00:00  0.000000  val_num     READINGS   \n",
       "\n",
       "                 equipRef                   groupRef navName   siteRef  \\\n",
       "0      Cooling Plant CH-1  Pharmacy Hydronic Systems     cop  Pharmacy   \n",
       "1      Cooling Plant CH-1  Pharmacy Hydronic Systems     cop  Pharmacy   \n",
       "...                   ...                        ...     ...       ...   \n",
       "17826  Cooling Plant CH-4  Pharmacy Hydronic Systems     cop  Pharmacy   \n",
       "17827  Cooling Plant CH-4  Pharmacy Hydronic Systems     cop  Pharmacy   \n",
       "\n",
       "         typeRef                                           uniqueID unit  \n",
       "0      CHLR1_COP  r:p:ubcv:r:21432e1c-45d33081 Pharmacy Cooling ...    _  \n",
       "1      CHLR1_COP  r:p:ubcv:r:21432e1c-45d33081 Pharmacy Cooling ...    _  \n",
       "...          ...                                                ...  ...  \n",
       "17826  CHLR4_COP  r:p:ubcv:r:21433683-704eac70 Pharmacy Cooling ...    _  \n",
       "17827  CHLR4_COP  r:p:ubcv:r:21433683-704eac70 Pharmacy Cooling ...    _  \n",
       "\n",
       "[17828 rows x 15 columns]"
      ]
     },
     "execution_count": 4,
     "metadata": {},
     "output_type": "execute_result"
    }
   ],
   "source": [
    "pd.options.display.max_rows = 5\n",
    "pd.options.display.max_columns = None\n",
    "result"
   ]
  },
  {
   "cell_type": "code",
   "execution_count": 5,
   "metadata": {},
   "outputs": [
    {
     "data": {
      "image/png": "[encoded data removed]",
      "text/plain": [
       "<Figure size 432x288 with 1 Axes>"
      ]
     },
     "metadata": {
      "needs_background": "light"
     },
     "output_type": "display_data"
    }
   ],
   "source": [
    "fig = plt.figure()\n",
    "ax = fig.add_subplot(111)\n",
    "for uid,dfm in result.groupby('uniqueID'):\n",
    "    ax.plot(dfm['_time'],dfm['_value'],label=uid)\n",
    "    # Put a legend to the right of the current axis\n",
    "ax.legend(loc='center left', bbox_to_anchor=(1, 0.5))\n",
    "plt.xticks(rotation='vertical')\n",
    "plt.show()"
   ]
  }
 ],
 "metadata": {
  "kernelspec": {
   "display_name": "Python 3",
   "language": "python",
   "name": "python3"
  },
  "language_info": {
   "codemirror_mode": {
    "name": "ipython",
    "version": 3
   },
   "file_extension": ".py",
   "mimetype": "text/x-python",
   "name": "python",
   "nbconvert_exporter": "python",
   "pygments_lexer": "ipython3",
   "version": "3.8.5"
  }
 },
 "nbformat": 4,
 "nbformat_minor": 2
}
